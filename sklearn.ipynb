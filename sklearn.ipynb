{
 "cells": [
  {
   "cell_type": "markdown",
   "metadata": {},
   "source": [
    "# Santiago Gabriel Vallejo García A01631816\n",
    "# Julio Arath Rosales Oliden A01630738"
   ]
  },
  {
   "cell_type": "code",
   "execution_count": 4,
   "metadata": {},
   "outputs": [
    {
     "data": {
      "text/html": [
       "<div>\n",
       "<style scoped>\n",
       "    .dataframe tbody tr th:only-of-type {\n",
       "        vertical-align: middle;\n",
       "    }\n",
       "\n",
       "    .dataframe tbody tr th {\n",
       "        vertical-align: top;\n",
       "    }\n",
       "\n",
       "    .dataframe thead th {\n",
       "        text-align: right;\n",
       "    }\n",
       "</style>\n",
       "<table border=\"1\" class=\"dataframe\">\n",
       "  <thead>\n",
       "    <tr style=\"text-align: right;\">\n",
       "      <th></th>\n",
       "      <th>review</th>\n",
       "      <th>sentiment</th>\n",
       "    </tr>\n",
       "  </thead>\n",
       "  <tbody>\n",
       "    <tr>\n",
       "      <th>0</th>\n",
       "      <td>One of the other reviewers has mentioned that ...</td>\n",
       "      <td>positive</td>\n",
       "    </tr>\n",
       "    <tr>\n",
       "      <th>1</th>\n",
       "      <td>A wonderful little production. &lt;br /&gt;&lt;br /&gt;The...</td>\n",
       "      <td>positive</td>\n",
       "    </tr>\n",
       "    <tr>\n",
       "      <th>2</th>\n",
       "      <td>I thought this was a wonderful way to spend ti...</td>\n",
       "      <td>positive</td>\n",
       "    </tr>\n",
       "    <tr>\n",
       "      <th>3</th>\n",
       "      <td>Basically there's a family where a little boy ...</td>\n",
       "      <td>negative</td>\n",
       "    </tr>\n",
       "    <tr>\n",
       "      <th>4</th>\n",
       "      <td>Petter Mattei's \"Love in the Time of Money\" is...</td>\n",
       "      <td>positive</td>\n",
       "    </tr>\n",
       "    <tr>\n",
       "      <th>...</th>\n",
       "      <td>...</td>\n",
       "      <td>...</td>\n",
       "    </tr>\n",
       "    <tr>\n",
       "      <th>49995</th>\n",
       "      <td>I thought this movie did a down right good job...</td>\n",
       "      <td>positive</td>\n",
       "    </tr>\n",
       "    <tr>\n",
       "      <th>49996</th>\n",
       "      <td>Bad plot, bad dialogue, bad acting, idiotic di...</td>\n",
       "      <td>negative</td>\n",
       "    </tr>\n",
       "    <tr>\n",
       "      <th>49997</th>\n",
       "      <td>I am a Catholic taught in parochial elementary...</td>\n",
       "      <td>negative</td>\n",
       "    </tr>\n",
       "    <tr>\n",
       "      <th>49998</th>\n",
       "      <td>I'm going to have to disagree with the previou...</td>\n",
       "      <td>negative</td>\n",
       "    </tr>\n",
       "    <tr>\n",
       "      <th>49999</th>\n",
       "      <td>No one expects the Star Trek movies to be high...</td>\n",
       "      <td>negative</td>\n",
       "    </tr>\n",
       "  </tbody>\n",
       "</table>\n",
       "<p>50000 rows × 2 columns</p>\n",
       "</div>"
      ],
      "text/plain": [
       "                                                  review sentiment\n",
       "0      One of the other reviewers has mentioned that ...  positive\n",
       "1      A wonderful little production. <br /><br />The...  positive\n",
       "2      I thought this was a wonderful way to spend ti...  positive\n",
       "3      Basically there's a family where a little boy ...  negative\n",
       "4      Petter Mattei's \"Love in the Time of Money\" is...  positive\n",
       "...                                                  ...       ...\n",
       "49995  I thought this movie did a down right good job...  positive\n",
       "49996  Bad plot, bad dialogue, bad acting, idiotic di...  negative\n",
       "49997  I am a Catholic taught in parochial elementary...  negative\n",
       "49998  I'm going to have to disagree with the previou...  negative\n",
       "49999  No one expects the Star Trek movies to be high...  negative\n",
       "\n",
       "[50000 rows x 2 columns]"
      ]
     },
     "execution_count": 4,
     "metadata": {},
     "output_type": "execute_result"
    }
   ],
   "source": [
    "import pandas as pd\n",
    "#abrir el csv\n",
    "df_review=pd.read_csv('IMDB Dataset.csv')\n",
    "df_review"
   ]
  },
  {
   "cell_type": "code",
   "execution_count": 5,
   "metadata": {},
   "outputs": [
    {
     "name": "stdout",
     "output_type": "stream",
     "text": [
      "sentiment\n",
      "negative    25000\n",
      "positive    25000\n",
      "dtype: int64\n",
      "----\n",
      "sentiment\n",
      "negative    1000\n",
      "positive    1000\n",
      "dtype: int64\n"
     ]
    }
   ],
   "source": [
    "#conseguir 1000 datos de positivos y negativos\n",
    "df_positivo=df_review[df_review['sentiment']=='positive'][:1000]\n",
    "df_negativo=df_review[df_review['sentiment']=='negative'][:1000]\n",
    "df_review_des=pd.concat([df_positivo,df_negativo])\n",
    "print(df_review.value_counts('sentiment'))\n",
    "print(f'----')\n",
    "print(df_review_des.value_counts('sentiment'))"
   ]
  },
  {
   "cell_type": "code",
   "execution_count": 6,
   "metadata": {},
   "outputs": [],
   "source": [
    "#hacemos split para el test y el train\n",
    "from sklearn.model_selection import train_test_split\n",
    "train,test=train_test_split(df_review_des, test_size=.33,random_state=42)\n",
    "\n",
    "train_x,train_y=train['review'], train['sentiment']\n",
    "test_x,test_y=test['review'], test['sentiment']\n"
   ]
  },
  {
   "cell_type": "code",
   "execution_count": 7,
   "metadata": {},
   "outputs": [
    {
     "name": "stderr",
     "output_type": "stream",
     "text": [
      "/Library/Frameworks/Python.framework/Versions/3.10/lib/python3.10/site-packages/sklearn/utils/deprecation.py:87: FutureWarning: Function get_feature_names is deprecated; get_feature_names is deprecated in 1.0 and will be removed in 1.2. Please use get_feature_names_out instead.\n",
      "  warnings.warn(msg, category=FutureWarning)\n"
     ]
    },
    {
     "data": {
      "text/html": [
       "<div>\n",
       "<style scoped>\n",
       "    .dataframe tbody tr th:only-of-type {\n",
       "        vertical-align: middle;\n",
       "    }\n",
       "\n",
       "    .dataframe tbody tr th {\n",
       "        vertical-align: top;\n",
       "    }\n",
       "\n",
       "    .dataframe thead th {\n",
       "        text-align: right;\n",
       "    }\n",
       "</style>\n",
       "<table border=\"1\" class=\"dataframe\">\n",
       "  <thead>\n",
       "    <tr style=\"text-align: right;\">\n",
       "      <th></th>\n",
       "      <th>amo</th>\n",
       "      <th>codigo</th>\n",
       "      <th>código</th>\n",
       "      <th>el</th>\n",
       "      <th>en</th>\n",
       "      <th>escribir</th>\n",
       "      <th>java</th>\n",
       "      <th>odio</th>\n",
       "      <th>python</th>\n",
       "    </tr>\n",
       "  </thead>\n",
       "  <tbody>\n",
       "    <tr>\n",
       "      <th>review1</th>\n",
       "      <td>2</td>\n",
       "      <td>1</td>\n",
       "      <td>1</td>\n",
       "      <td>1</td>\n",
       "      <td>2</td>\n",
       "      <td>1</td>\n",
       "      <td>0</td>\n",
       "      <td>0</td>\n",
       "      <td>2</td>\n",
       "    </tr>\n",
       "    <tr>\n",
       "      <th>review2</th>\n",
       "      <td>0</td>\n",
       "      <td>1</td>\n",
       "      <td>1</td>\n",
       "      <td>1</td>\n",
       "      <td>2</td>\n",
       "      <td>1</td>\n",
       "      <td>2</td>\n",
       "      <td>2</td>\n",
       "      <td>0</td>\n",
       "    </tr>\n",
       "  </tbody>\n",
       "</table>\n",
       "</div>"
      ],
      "text/plain": [
       "         amo  codigo  código  el  en  escribir  java  odio  python\n",
       "review1    2       1       1   1   2         1     0     0       2\n",
       "review2    0       1       1   1   2         1     2     2       0"
      ]
     },
     "execution_count": 7,
     "metadata": {},
     "output_type": "execute_result"
    }
   ],
   "source": [
    "#bag of words- usando vectores \n",
    "import pandas as pd\n",
    "from sklearn.feature_extraction.text import CountVectorizer\n",
    "#ejemplo para ver como funciona \n",
    "text = [\"Amo escribir codigo en Python. Amo el código en Python\",\n",
    "        \"Odio escribir codigo en Java. Odio el código en Java\"]\n",
    "\n",
    "df = pd.DataFrame({'review': ['review1', 'review2'], 'text':text})\n",
    "cv = CountVectorizer()\n",
    "cv_matrix = cv.fit_transform(df['text'])\n",
    "df_dtm = pd.DataFrame(cv_matrix.toarray(), index=df['review'].values, columns=cv.get_feature_names())\n",
    "df_dtm"
   ]
  },
  {
   "cell_type": "code",
   "execution_count": 8,
   "metadata": {},
   "outputs": [
    {
     "name": "stderr",
     "output_type": "stream",
     "text": [
      "/Library/Frameworks/Python.framework/Versions/3.10/lib/python3.10/site-packages/sklearn/utils/deprecation.py:87: FutureWarning: Function get_feature_names is deprecated; get_feature_names is deprecated in 1.0 and will be removed in 1.2. Please use get_feature_names_out instead.\n",
      "  warnings.warn(msg, category=FutureWarning)\n"
     ]
    },
    {
     "data": {
      "text/html": [
       "<div>\n",
       "<style scoped>\n",
       "    .dataframe tbody tr th:only-of-type {\n",
       "        vertical-align: middle;\n",
       "    }\n",
       "\n",
       "    .dataframe tbody tr th {\n",
       "        vertical-align: top;\n",
       "    }\n",
       "\n",
       "    .dataframe thead th {\n",
       "        text-align: right;\n",
       "    }\n",
       "</style>\n",
       "<table border=\"1\" class=\"dataframe\">\n",
       "  <thead>\n",
       "    <tr style=\"text-align: right;\">\n",
       "      <th></th>\n",
       "      <th>amo</th>\n",
       "      <th>codigo</th>\n",
       "      <th>código</th>\n",
       "      <th>el</th>\n",
       "      <th>en</th>\n",
       "      <th>escribir</th>\n",
       "      <th>java</th>\n",
       "      <th>odio</th>\n",
       "      <th>python</th>\n",
       "    </tr>\n",
       "  </thead>\n",
       "  <tbody>\n",
       "    <tr>\n",
       "      <th>review1</th>\n",
       "      <td>0.576152</td>\n",
       "      <td>0.204969</td>\n",
       "      <td>0.204969</td>\n",
       "      <td>0.204969</td>\n",
       "      <td>0.409937</td>\n",
       "      <td>0.204969</td>\n",
       "      <td>0.000000</td>\n",
       "      <td>0.000000</td>\n",
       "      <td>0.576152</td>\n",
       "    </tr>\n",
       "    <tr>\n",
       "      <th>review2</th>\n",
       "      <td>0.000000</td>\n",
       "      <td>0.204969</td>\n",
       "      <td>0.204969</td>\n",
       "      <td>0.204969</td>\n",
       "      <td>0.409937</td>\n",
       "      <td>0.204969</td>\n",
       "      <td>0.576152</td>\n",
       "      <td>0.576152</td>\n",
       "      <td>0.000000</td>\n",
       "    </tr>\n",
       "  </tbody>\n",
       "</table>\n",
       "</div>"
      ],
      "text/plain": [
       "              amo    codigo    código        el        en  escribir      java  \\\n",
       "review1  0.576152  0.204969  0.204969  0.204969  0.409937  0.204969  0.000000   \n",
       "review2  0.000000  0.204969  0.204969  0.204969  0.409937  0.204969  0.576152   \n",
       "\n",
       "             odio    python  \n",
       "review1  0.000000  0.576152  \n",
       "review2  0.576152  0.000000  "
      ]
     },
     "execution_count": 8,
     "metadata": {},
     "output_type": "execute_result"
    }
   ],
   "source": [
    "#term frequency \n",
    "import pandas as pd\n",
    "from sklearn.feature_extraction.text import TfidfVectorizer\n",
    "text = [\"Amo escribir codigo en Python. Amo el código en Python\",\n",
    "        \"Odio escribir codigo en Java. Odio el código en Java\"]\n",
    "\n",
    "df = pd.DataFrame({'review': ['review1', 'review2'], 'text':text})\n",
    "tfidf = TfidfVectorizer(stop_words='english')\n",
    "tfidf_matrix = tfidf.fit_transform(df['text'])\n",
    "df_dtm = pd.DataFrame(tfidf_matrix.toarray(), index=df['review'].values, columns=tfidf.get_feature_names())\n",
    "df_dtm"
   ]
  },
  {
   "cell_type": "code",
   "execution_count": 9,
   "metadata": {},
   "outputs": [
    {
     "data": {
      "text/plain": [
       "<1340x20202 sparse matrix of type '<class 'numpy.float64'>'\n",
       "\twith 116136 stored elements in Compressed Sparse Row format>"
      ]
     },
     "execution_count": 9,
     "metadata": {},
     "output_type": "execute_result"
    }
   ],
   "source": [
    "#pasar de texto a numero\n",
    "#aqui si se usa stop words \n",
    "\n",
    "from sklearn.feature_extraction.text import TfidfVectorizer\n",
    "\n",
    "tfidf = TfidfVectorizer(stop_words='english')\n",
    "train_x_vector = tfidf.fit_transform(train_x)\n",
    "\n",
    "test_x_vector = tfidf.transform(test_x)\n",
    "train_x_vector#vamos a ver el tamaño "
   ]
  },
  {
   "cell_type": "code",
   "execution_count": 10,
   "metadata": {},
   "outputs": [
    {
     "name": "stdout",
     "output_type": "stream",
     "text": [
      "Resultado de buena película: \n",
      "['positive']\n",
      "Resultado de excelente película: \n",
      "['positive']\n",
      "Resultado de mala película: \n",
      "['negative']\n"
     ]
    }
   ],
   "source": [
    "#svm - clasificador geometrico que busca incrementar la frontera entre dos grupos \n",
    "from sklearn.svm import SVC\n",
    "\n",
    "svc = SVC(kernel='linear')#creandolo\n",
    "svc.fit(train_x_vector, train_y)#entrenandolo\n",
    "\n",
    "#3 simples predicciones \n",
    "print(\"Resultado de buena película: \")\n",
    "print(svc.predict(tfidf.transform(['A good movie']))) #buena pelicula\n",
    "print(\"Resultado de excelente película: \")\n",
    "print(svc.predict(tfidf.transform(['An excellent movie']))) #excelente pelicula\n",
    "print(\"Resultado de mala película: \")\n",
    "print(svc.predict(tfidf.transform(['\"I did not like this movie at all I gave this movie away\"'])))# no gusto\n"
   ]
  },
  {
   "cell_type": "code",
   "execution_count": 11,
   "metadata": {},
   "outputs": [
    {
     "name": "stdout",
     "output_type": "stream",
     "text": [
      "Resultado de buena película: \n",
      "['positive']\n",
      "Resultado de excelente película: \n",
      "['positive']\n",
      "Resultado de mala película: \n",
      "['positive']\n"
     ]
    }
   ],
   "source": [
    "#árbol de decisión - toma decisiones con muchas decisiones simples de inferencia de los datos\n",
    "#por lo que es más sencillo visualizarlo\n",
    "\n",
    "from sklearn.tree import DecisionTreeClassifier\n",
    "\n",
    "dec_tree = DecisionTreeClassifier()\n",
    "dec_tree.fit(train_x_vector, train_y)\n",
    "\n",
    "#3 simples predicciones \n",
    "print(\"Resultado de buena película: \")\n",
    "print(dec_tree.predict(tfidf.transform(['A good movie']))) #buena pelicula\n",
    "print(\"Resultado de excelente película: \")\n",
    "print(dec_tree.predict(tfidf.transform(['An excellent movie']))) #excelente pelicula\n",
    "print(\"Resultado de mala película: \")\n",
    "print(dec_tree.predict(tfidf.transform(['\"I did not like this movie at all I gave this movie away\"'])))# no gusto\n",
    "\n"
   ]
  },
  {
   "cell_type": "code",
   "execution_count": 12,
   "metadata": {},
   "outputs": [
    {
     "name": "stdout",
     "output_type": "stream",
     "text": [
      "Clase de entranmiento naive bayes\n"
     ]
    },
    {
     "data": {
      "text/html": [
       "<style>#sk-container-id-1 {color: black;background-color: white;}#sk-container-id-1 pre{padding: 0;}#sk-container-id-1 div.sk-toggleable {background-color: white;}#sk-container-id-1 label.sk-toggleable__label {cursor: pointer;display: block;width: 100%;margin-bottom: 0;padding: 0.3em;box-sizing: border-box;text-align: center;}#sk-container-id-1 label.sk-toggleable__label-arrow:before {content: \"▸\";float: left;margin-right: 0.25em;color: #696969;}#sk-container-id-1 label.sk-toggleable__label-arrow:hover:before {color: black;}#sk-container-id-1 div.sk-estimator:hover label.sk-toggleable__label-arrow:before {color: black;}#sk-container-id-1 div.sk-toggleable__content {max-height: 0;max-width: 0;overflow: hidden;text-align: left;background-color: #f0f8ff;}#sk-container-id-1 div.sk-toggleable__content pre {margin: 0.2em;color: black;border-radius: 0.25em;background-color: #f0f8ff;}#sk-container-id-1 input.sk-toggleable__control:checked~div.sk-toggleable__content {max-height: 200px;max-width: 100%;overflow: auto;}#sk-container-id-1 input.sk-toggleable__control:checked~label.sk-toggleable__label-arrow:before {content: \"▾\";}#sk-container-id-1 div.sk-estimator input.sk-toggleable__control:checked~label.sk-toggleable__label {background-color: #d4ebff;}#sk-container-id-1 div.sk-label input.sk-toggleable__control:checked~label.sk-toggleable__label {background-color: #d4ebff;}#sk-container-id-1 input.sk-hidden--visually {border: 0;clip: rect(1px 1px 1px 1px);clip: rect(1px, 1px, 1px, 1px);height: 1px;margin: -1px;overflow: hidden;padding: 0;position: absolute;width: 1px;}#sk-container-id-1 div.sk-estimator {font-family: monospace;background-color: #f0f8ff;border: 1px dotted black;border-radius: 0.25em;box-sizing: border-box;margin-bottom: 0.5em;}#sk-container-id-1 div.sk-estimator:hover {background-color: #d4ebff;}#sk-container-id-1 div.sk-parallel-item::after {content: \"\";width: 100%;border-bottom: 1px solid gray;flex-grow: 1;}#sk-container-id-1 div.sk-label:hover label.sk-toggleable__label {background-color: #d4ebff;}#sk-container-id-1 div.sk-serial::before {content: \"\";position: absolute;border-left: 1px solid gray;box-sizing: border-box;top: 0;bottom: 0;left: 50%;z-index: 0;}#sk-container-id-1 div.sk-serial {display: flex;flex-direction: column;align-items: center;background-color: white;padding-right: 0.2em;padding-left: 0.2em;position: relative;}#sk-container-id-1 div.sk-item {position: relative;z-index: 1;}#sk-container-id-1 div.sk-parallel {display: flex;align-items: stretch;justify-content: center;background-color: white;position: relative;}#sk-container-id-1 div.sk-item::before, #sk-container-id-1 div.sk-parallel-item::before {content: \"\";position: absolute;border-left: 1px solid gray;box-sizing: border-box;top: 0;bottom: 0;left: 50%;z-index: -1;}#sk-container-id-1 div.sk-parallel-item {display: flex;flex-direction: column;z-index: 1;position: relative;background-color: white;}#sk-container-id-1 div.sk-parallel-item:first-child::after {align-self: flex-end;width: 50%;}#sk-container-id-1 div.sk-parallel-item:last-child::after {align-self: flex-start;width: 50%;}#sk-container-id-1 div.sk-parallel-item:only-child::after {width: 0;}#sk-container-id-1 div.sk-dashed-wrapped {border: 1px dashed gray;margin: 0 0.4em 0.5em 0.4em;box-sizing: border-box;padding-bottom: 0.4em;background-color: white;}#sk-container-id-1 div.sk-label label {font-family: monospace;font-weight: bold;display: inline-block;line-height: 1.2em;}#sk-container-id-1 div.sk-label-container {text-align: center;}#sk-container-id-1 div.sk-container {/* jupyter's `normalize.less` sets `[hidden] { display: none; }` but bootstrap.min.css set `[hidden] { display: none !important; }` so we also need the `!important` here to be able to override the default hidden behavior on the sphinx rendered scikit-learn.org. See: https://github.com/scikit-learn/scikit-learn/issues/21755 */display: inline-block !important;position: relative;}#sk-container-id-1 div.sk-text-repr-fallback {display: none;}</style><div id=\"sk-container-id-1\" class=\"sk-top-container\"><div class=\"sk-text-repr-fallback\"><pre>GaussianNB()</pre><b>In a Jupyter environment, please rerun this cell to show the HTML representation or trust the notebook. <br />On GitHub, the HTML representation is unable to render, please try loading this page with nbviewer.org.</b></div><div class=\"sk-container\" hidden><div class=\"sk-item\"><div class=\"sk-estimator sk-toggleable\"><input class=\"sk-toggleable__control sk-hidden--visually\" id=\"sk-estimator-id-1\" type=\"checkbox\" checked><label for=\"sk-estimator-id-1\" class=\"sk-toggleable__label sk-toggleable__label-arrow\">GaussianNB</label><div class=\"sk-toggleable__content\"><pre>GaussianNB()</pre></div></div></div></div></div>"
      ],
      "text/plain": [
       "GaussianNB()"
      ]
     },
     "execution_count": 12,
     "metadata": {},
     "output_type": "execute_result"
    }
   ],
   "source": [
    "#metodo de aprendizaje supervisado que usa el teorema de bayes \n",
    "#toma que las predicciones son independientes entre cada par de features en su respectiva clase \n",
    "\n",
    "from sklearn.naive_bayes import GaussianNB\n",
    "\n",
    "gnb = GaussianNB()#crea el clasificador\n",
    "print(\"Clase de entranmiento naive bayes\")\n",
    "gnb.fit(train_x_vector.toarray(), train_y)#lo entrena \n",
    "#print(gnb.score(test_x_vector.toarray(), test_y))"
   ]
  },
  {
   "cell_type": "code",
   "execution_count": 13,
   "metadata": {},
   "outputs": [
    {
     "name": "stdout",
     "output_type": "stream",
     "text": [
      "Resultado de buena película: \n",
      "['negative']\n",
      "Resultado de excelente película: \n",
      "['positive']\n",
      "Resultado de mala película: \n",
      "['negative']\n"
     ]
    }
   ],
   "source": [
    "#se crea un modelo con regresion logistica para dar un modelo lineal para reducir un error \n",
    "#que en este caso usa suma de la distancia cuadrada a la linea de todos los puntos (rmse)\n",
    "\n",
    "from sklearn.linear_model import LogisticRegression\n",
    "\n",
    "lr = LogisticRegression()#crear el modelo \n",
    "lr.fit(train_x_vector, train_y)#entrenar el modelo \n",
    "\n",
    "#3 simples predicciones \n",
    "print(\"Resultado de buena película: \")\n",
    "print(lr.predict(tfidf.transform(['A good movie']))) #buena pelicula\n",
    "print(\"Resultado de excelente película: \")\n",
    "print(lr.predict(tfidf.transform(['An excellent movie']))) #excelente pelicula\n",
    "print(\"Resultado de mala película: \")\n",
    "print(lr.predict(tfidf.transform(['\"I did not like this movie at all I gave this movie away\"'])))# no gusto\n"
   ]
  },
  {
   "cell_type": "code",
   "execution_count": 14,
   "metadata": {},
   "outputs": [
    {
     "name": "stdout",
     "output_type": "stream",
     "text": [
      "Score for SVC:\n",
      "0.8378787878787879\n",
      "Score for dec tree:\n",
      "0.6818181818181818\n",
      "Score for naive bayes:\n",
      "0.6287878787878788\n",
      "Score for linear:\n",
      "0.8121212121212121\n"
     ]
    }
   ],
   "source": [
    "#comparar todos \n",
    "print(\"Score for SVC:\")\n",
    "print(svc.score(test_x_vector, test_y))\n",
    "print(\"Score for dec tree:\")\n",
    "print(dec_tree.score(test_x_vector, test_y))\n",
    "print(\"Score for naive bayes:\")\n",
    "print(gnb.score(test_x_vector.toarray(), test_y))\n",
    "print(\"Score for linear:\")\n",
    "print(lr.score(test_x_vector, test_y))"
   ]
  },
  {
   "cell_type": "code",
   "execution_count": 15,
   "metadata": {},
   "outputs": [
    {
     "name": "stdout",
     "output_type": "stream",
     "text": [
      "f1 score casos [positivos, negativos]\n"
     ]
    },
    {
     "data": {
      "text/plain": [
       "array([0.8410104 , 0.83462133])"
      ]
     },
     "execution_count": 15,
     "metadata": {},
     "output_type": "execute_result"
    }
   ],
   "source": [
    "#sacamos el f-score \n",
    "# fScore=2*(Presicion*recall)/(precision+recall)\n",
    "\n",
    "from sklearn.metrics import f1_score\n",
    "print(\"f1 score casos [positivos, negativos]\")\n",
    "f1_score(test_y, svc.predict(test_x_vector),\n",
    "         labels=['positive', 'negative'],\n",
    "         average=None)"
   ]
  },
  {
   "cell_type": "code",
   "execution_count": 16,
   "metadata": {},
   "outputs": [
    {
     "name": "stdout",
     "output_type": "stream",
     "text": [
      "              precision    recall  f1-score   support\n",
      "\n",
      "    positive       0.81      0.87      0.84       325\n",
      "    negative       0.87      0.81      0.83       335\n",
      "\n",
      "    accuracy                           0.84       660\n",
      "   macro avg       0.84      0.84      0.84       660\n",
      "weighted avg       0.84      0.84      0.84       660\n",
      "\n"
     ]
    }
   ],
   "source": [
    "#Re´prte de clasificacion \n",
    "from sklearn.metrics import classification_report\n",
    "#Representación númerica de los casos de exitos y fallos de cada etiqueta\n",
    "\n",
    "print(classification_report(test_y, svc.predict(test_x_vector),\n",
    "                      labels=['positive', 'negative']))"
   ]
  },
  {
   "cell_type": "code",
   "execution_count": 17,
   "metadata": {},
   "outputs": [
    {
     "name": "stdout",
     "output_type": "stream",
     "text": [
      "              precision    recall  f1-score   support\n",
      "\n",
      "    positive       0.81      0.87      0.84       325\n",
      "    negative       0.87      0.81      0.83       335\n",
      "\n",
      "    accuracy                           0.84       660\n",
      "   macro avg       0.84      0.84      0.84       660\n",
      "weighted avg       0.84      0.84      0.84       660\n",
      "\n",
      "[[283  42]\n",
      " [ 65 270]]\n"
     ]
    },
    {
     "data": {
      "image/png": "[encoded data removed]",
      "text/plain": [
       "<Figure size 432x288 with 2 Axes>"
      ]
     },
     "metadata": {
      "needs_background": "light"
     },
     "output_type": "display_data"
    }
   ],
   "source": [
    "from sklearn.model_selection import GridSearchCV\n",
    "from sklearn.metrics import confusion_matrix\n",
    "from sklearn.metrics import ConfusionMatrixDisplay\n",
    "import matplotlib.pyplot as plt\n",
    "\n",
    "\n",
    "paremetros = {'C':[1,4,8,16,32], 'kernel':['linear', 'rbf']}\n",
    "svc = SVC()\n",
    "svc_grid = GridSearchCV(svc, paremetros, cv=5)\n",
    "svc_grid.fit(train_x_vector, train_y)\n",
    "#Representación númerica de los casos de exitos y fallos de cada etiqueta\n",
    "svc_matrix = confusion_matrix(test_y, svc_grid.predict(test_x_vector),\n",
    "                      labels=['positive', 'negative'])\n",
    "#Métricas de rendimiento del svc_grid\n",
    "print(classification_report(test_y, svc_grid.predict(test_x_vector),\n",
    "                      labels=['positive', 'negative']))\n",
    "#Representación visual de los casos de exitos y fallos de cada etiqueta\n",
    "ConfusionMatrixDisplay(svc_matrix, display_labels=['positive', 'negative']).plot()\n",
    "#True Negative RAte\n",
    "TNR = svc_matrix[1][1] / (svc_matrix[1][1] + svc_matrix[0][1])\n",
    "print(\"El True Negative Rate del svc es: \" + str(TNR))\n",
    "print(\"El True Negative rate es cuantas observaciones de todas las negativas se clasificaron correctamente.\")\n",
    "#print(svc_grid.best_estimator_)\n",
    "#print(svc_grid.best_params_)\n",
    "#svc_grid.best_score_ "
   ]
  },
  {
   "cell_type": "markdown",
   "metadata": {},
   "source": [
    "# Usamos svm porque era el que mejor resultados con aprox 84 de accuracy y decidimos mostrar varias metricas entre las cuales destaca, recall ya que nos permite ver cuantos verdaderos tenemos tomando en cuenta los falsos negativos, por lo que podemos ver la calidad de la predicción. \n",
    "\n",
    "# Siendo en este caso 87 de los casos positivos y 81 en los casos negativos, ya que nos queremos enfocar en la calidad de los resultados positivos mientras que otras metricas como presicion nos diran solo la cantidad de positivos \n",
    "\n",
    "\n",
    "## positivos = tp/(tp+fn)\n",
    "\n",
    "## negativos = tn/(tn+fp)"
   ]
  },
  {
   "cell_type": "markdown",
   "metadata": {},
   "source": []
  }
 ],
 "metadata": {
  "kernelspec": {
   "display_name": "Python 3.10.6 64-bit",
   "language": "python",
   "name": "python3"
  },
  "language_info": {
   "codemirror_mode": {
    "name": "ipython",
    "version": 3
   },
   "file_extension": ".py",
   "mimetype": "text/x-python",
   "name": "python",
   "nbconvert_exporter": "python",
   "pygments_lexer": "ipython3",
   "version": "3.10.6"
  },
  "orig_nbformat": 4,
  "vscode": {
   "interpreter": {
    "hash": "aee8b7b246df8f9039afb4144a1f6fd8d2ca17a180786b69acc140d282b71a49"
   }
  }
 },
 "nbformat": 4,
 "nbformat_minor": 2
}
